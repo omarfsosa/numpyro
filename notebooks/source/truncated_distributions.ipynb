{
 "cells": [
  {
   "cell_type": "markdown",
   "id": "b7c1cf6e",
   "metadata": {},
   "source": [
    "# Truncated distributions\n",
    "\n",
    "This tutorial will cover how to implement your own\n",
    "truncated distribution in NumPyro.\n",
    "It is assumed that you're already familiar with the basics of NumPyro.\n",
    "To get the most out of this tutorial, you'll need some background in probability.\n",
    "\n",
    "**Contents**\n",
    "* [1. What is a truncated distribution?](#1)\n",
    "* [2. Sampling from a truncated distribution](#2)\n",
    "* [3. Recap of NumPyro distributions](#3)\n",
    "* [4. Building your own truncanted distributions](#4)\n",
    "    * [4.1 Right-truncated normal](#4.1)\n",
    "    * [4.2 Left-truncated Poisson](#4.2)\n",
    "* [5. Ready-to-use truncated distributions available in NumPyro](#5)\n",
    "* [6. References](#6)\n",
    "\n",
    "\n",
    "## What is a truncated distribution? <a class=\"anchor\" id=\"1\"></a>\n",
    "\n",
    "The **support** of a probability distribution is the set of values\n",
    "in the domain with **non-zero probability**. For example, the\n",
    "support of the normal distribution is the whole real line (even if\n",
    "the density gets very small as we move away from the mean, technically\n",
    "speaking, it is never quite zero). The support of the uniform distribution,\n",
    "as coded in `jax.random.uniform` with the default arguments, is the interval $\\left[0, 1)\\right.$, because any\n",
    "value outside of that interval has zero probability. The support of the Poisson distribution is the set of non-negative integers, etc.\n",
    "\n",
    "**Truncating** a distribution makes its support smaller\n",
    "so that any value outside our desired domain has zero probability. In practice, this can be useful\n",
    "for modelling situations in which certain biases are introduced during data collection.\n",
    "For example, some physical detectors only get triggered when the signal is above some\n",
    "minimum threshold, or sometimes the detectors fail if the signal exceeds a certain value.\n",
    "As a result, the **observed values are constrained to be within a limited range of values**,\n",
    "even though the true signal does not have the same constraints.\n",
    "See, for example, section 3.1 of _Information Theory and Learning Algorithms_ by David Mackay.\n",
    "Naively, if $S$ is the support of the original density $p_Y(y)$, then by truncating to a new support\n",
    "$T\\subset S$ we are effectively defining a new random variable $Z$ for which the density is\n",
    "\n",
    "\\begin{equation}\n",
    "  p_Z(z) \\propto\n",
    "    \\begin{cases}\n",
    "      p_Y(z) & \\text{if $z$ is in $T$}\\\\\n",
    "      0 & \\text{if $z$ is outside $T$}\\\\\n",
    "    \\end{cases}       \n",
    "\\end{equation}\n",
    "\n",
    "The reason for writing a $\\propto$ (proportional to) sign instead of a strict equation is that,\n",
    "defined in the above way, the resulting function does not integrate to $1$ and so it cannot be strictly considered a probability density. To make it into a probability density **we need to re-distribute the truncated mass**\n",
    "among the part of the distribution that remains. To do this, we simply re-weight every point by the same constant:\n",
    "\n",
    "\\begin{equation}\n",
    "  p_Z(z) =\n",
    "    \\begin{cases}\n",
    "      \\frac{1}{M}p_Y(z) & \\text{if $z$ is in $T$}\\\\\n",
    "      0 & \\text{if $z$ is outside $T$}\\\\\n",
    "    \\end{cases}       \n",
    "\\end{equation}\n",
    "\n",
    "where $M = \\int_T p_Y(y)\\mathrm{d}y$.\n",
    "\n",
    "In practice, the truncation is often one-sided. This means that if, for example, the support before truncation is the interval $(a, b)$, then the support after truncation is of the form $(a, c)$ or $(c, b)$, with $a < c < b$. The figure below illustrates a right-sided truncation.\n",
    "\n",
    "<img src=\"https://i.ibb.co/x2fhd0y/truncated-normal.png\" alt=\"drawing\" width=\"900\"/>\n",
    "\n",
    "The original distribution (left side) is truncated at the vertical dotted line. The truncated mass (orange region) is redistributed in the new support (right side) so that the total area under the curve remains equal to 1 even after truncation. Though there could be other forms of re-weighting the truncated distribution, this method\n",
    "ensures that the density ratio between any two points, $p(a)/p(b)$ remains the same before and after\n",
    "the reweighting is done (as long as the points are inside the new support, of course).\n",
    "For this same reason, if the truncation point is known and we are going to do inference using MCMC, the normalization constant $M$ can simply be dropped.\n",
    "\n",
    "**Note**: Truncated data is different from _censored_ data. Censoring also hides values that are outside some desired support but, contrary to truncated data, we know when a value has been censored. The typical example is the household scale which does not report values above 300 pounds. Censored data will not be covered in this tutorial.\n",
    "\n",
    "## Sampling from a truncated distribution <a class=\"anchor\" id=\"2\"></a>\n",
    "\n",
    "Usually, we already have a sampler for the pre-truncated distribution (e.g. `np.random.normal`).\n",
    "So, a seemingly simple way of generating samples from the truncated distribution would be to\n",
    "sample from the original distribution, and then discard the samples that are outside the \n",
    "desired support. For example, if we wanted samples from a normal distribution truncated to the\n",
    "support $(-\\infty, 1)$, we'd simply do:\n",
    "\n",
    "```python\n",
    "upper = 1\n",
    "samples = np.random.normal(size=1000)\n",
    "truncated_samples = samples[samples < upper]\n",
    "```\n",
    "\n",
    "This is called **_rejection sampling_ but it is not very efficient**.\n",
    "If the region we truncated had a sufficiently high probability mass, then we'd be discarding a lot of samples and it might be a while before we accumulate sufficient samples for the truncated distribution. For example, the above snippet would only result in $\\sim 840$ truncated samples even though we initially drew $1000$. This can easily get a lot worse for other combinations of parameters.\n",
    "A **more efficient** approach is to use a method known as [inverse transform sampling](https://en.wikipedia.org/wiki/Inverse_transform_sampling).\n",
    "In this method, we first sample from a uniform distribution in (0, 1) and then transform those samples with the inverse cumulative distribution of our truncated distribution.\n",
    "This method ensures that no samples are wasted in the process, though it does have the slight complication that\n",
    "**we need to calculate the inverse CDF (ICDF)** of our truncated distribution. This might sound too complicated at first but, with a bit of algebra, we can often calculate the truncated ICDF in terms of the untruncated ICDF. The untruncated ICDF for many distributions is already available.\n",
    "\n",
    "Before we move on to the examples, let's do a quick recap of NumPyro distributions.\n",
    "\n",
    "## A quick recap of NumPyro distributions <a class=\"anchor\" id=\"3\"></a>\n",
    "\n",
    "A NumPyro distribution should subclass `Distribution` and implement a few basic ingredients:\n",
    "\n",
    "**Class attributes:**\n",
    "The class attributes serve a few different purposes. Here we will mainly care about two:\n",
    "1. `arg_constraints`: Impose some requirements on the parameters of the distribution. Errors are raised at instantiation time if the parameters passed do not satisfy the constraints.\n",
    "2. `support`: It is used in some inference algorithms like MCMC and SVI with auto-guides, where we need to perform the algorithm in the unconstrained space. Knowing the support, we can automatically reparametrize things under the hood.\n",
    "\n",
    "We'll explain other class attributes as we go.\n",
    "\n",
    "**The `__init__` method:**\n",
    "This is where we define the parameters of the distribution.\n",
    "We also use `jax` and `lax` to promote the parameters to shapes that are valid for broadcasting.\n",
    "The `__init__` method of the parent class is also required because that's where the validation of our parameters is done.\n",
    "\n",
    "**The `log_prob` method:**\n",
    "Implementing the `log_prob` method ensures that we can do inference. As the name suggests, this method returns the logarithm of the density evaluated at the argument.\n",
    "\n",
    "\n",
    "**The `sample` method:**\n",
    "This method is used for drawing independent samples from our distribution. It is particularly useful for doing prior checks.\n",
    "\n",
    "\n",
    "The place-holder code for any of our implementations can be written as\n",
    "```python\n",
    "class MyDistribution(Distribution):\n",
    "    # class attributes\n",
    "    arg_constraints = {}\n",
    "    support = None\n",
    "    def __init__(self):\n",
    "        pass\n",
    "    \n",
    "    def log_prob(self, value):\n",
    "        pass\n",
    "    \n",
    "    def sample(self, key, sample_shape=()):\n",
    "        pass\n",
    "```"
   ]
  },
  {
   "cell_type": "markdown",
   "id": "79e5e01d",
   "metadata": {},
   "source": [
    "## Examples <a class=\"anchor\" id=\"4\"></a>\n",
    "Let's now move on to concrete examples."
   ]
  },
  {
   "cell_type": "code",
   "execution_count": 1,
   "id": "03ed3317",
   "metadata": {},
   "outputs": [
    {
     "name": "stderr",
     "output_type": "stream",
     "text": [
      "/Users/omarfsosa/.pyenv/versions/3.8.10/envs/numpyro/lib/python3.8/site-packages/jax/_src/lib/__init__.py:32: UserWarning: JAX on Mac ARM machines is experimental and minimally tested. Please see https://github.com/google/jax/issues/5501 in the event of problems.\n",
      "  warnings.warn(\"JAX on Mac ARM machines is experimental and minimally tested. \"\n"
     ]
    }
   ],
   "source": [
    "from functools import partial\n",
    "\n",
    "import jax\n",
    "import jax.numpy as jnp\n",
    "import matplotlib.pyplot as plt\n",
    "import numpy as np\n",
    "import numpyro\n",
    "import numpyro.distributions as dist\n",
    "from jax import lax, random\n",
    "from jax.scipy.special import ndtr, ndtri\n",
    "from jax.scipy.stats import poisson, norm\n",
    "from numpyro.distributions import (\n",
    "    constraints,\n",
    "    Distribution,\n",
    "    FoldedDistribution,\n",
    "    SoftLaplace,\n",
    "    StudentT,\n",
    "    TruncatedDistribution,\n",
    "    TruncatedNormal,\n",
    ")\n",
    "from numpyro.distributions.util import promote_shapes\n",
    "from numpyro.infer import DiscreteHMCGibbs, MCMC, NUTS, Predictive\n",
    "from scipy.stats import poisson as sp_poisson\n",
    "\n",
    "numpyro.enable_x64()\n",
    "RNG = random.PRNGKey(0)\n",
    "MCMC_KWARGS = dict(\n",
    "    num_warmup=2000,\n",
    "    num_samples=2000,\n",
    "    num_chains=4,\n",
    "    chain_method=\"sequential\",\n",
    ")"
   ]
  },
  {
   "cell_type": "markdown",
   "id": "7923078f",
   "metadata": {},
   "source": [
    "### Example: Right-truncated normal <a class=\"anchor\" id=\"4.1\"></a>\n",
    "\n",
    "We are going to modify a normal distribution so that its new support is\n",
    "of the form `(-inf, high)`, with `high` a real number. We'll call our distribution `RightTruncatedNormal`. Let's write the skeleton code and then proceed to fill in the blanks.\n",
    "\n",
    "```python\n",
    "class RightTruncatedNormal(Distribution):\n",
    "    # <class attributes>\n",
    "    def __init__(self):\n",
    "        pass\n",
    "    \n",
    "    def log_prob(self, value):\n",
    "        pass\n",
    "    \n",
    "    def sample(self, key, sample_shape=()):\n",
    "        pass\n",
    "```\n",
    "    \n",
    "\n",
    "#### Class attributes\n",
    "Remember that a non-truncated normal distribution is specified in NumPyro by two parameters, `loc` and `scale`,\n",
    "which correspond to the mean and standard deviation.\n",
    "Looking at the [source code](https://github.com/pyro-ppl/numpyro/blob/0664c2d2dd1eb5f41ea6a0bcef91e5fa2a417ce5/numpyro/distributions/continuous.py#L1337) for the `Normal` distribution we see the following lines:\n",
    "\n",
    "```python\n",
    "arg_constraints = {\"loc\": constraints.real, \"scale\": constraints.positive}\n",
    "support = constraints.real\n",
    "reparametrized_params = [\"loc\", \"scale\"]\n",
    "```\n",
    "The `reparametrized_params` is used to determine if a distribution is reparameterizable. Reparametrizing is used to deal with complicated posterior geometries that make sampling very slow or biased. See [this tutorial](https://pyro.ai/examples/svi_part_iii.html#Tricky-Case:-Non-reparameterizable-Random-Variables) if you're interested.\n",
    "\n",
    "We must adapt these attributes to our case by including the `\"high\"` parameter, but there are two issues we need to deal with:\n",
    "1. `constraints.real` is a bit too restrictive. We'd like `jnp.inf` to be a valid value for `high` (equivalent to no truncation), but at the moment infinity is not a valid real number. We deal with this situation by defining our own constraint. The source code for `constraints.real` is easy to imitate:\n",
    "\n",
    "```python\n",
    "class _RightExtendedReal(constraints.Constraint):\n",
    "    \"\"\"\n",
    "    Any number in the interval (-inf, inf].\n",
    "    \"\"\"\n",
    "    def __call__(self, x):\n",
    "        return (x == x) & (x != float(\"-inf\"))\n",
    "    \n",
    "    def feasible_like(self, prototype):\n",
    "        return jnp.zeros_like(prototype)\n",
    "\n",
    "right_extended_real = _RightExtendedReal()\n",
    "```\n",
    "\n",
    "2. `support` can no longer be a class attribute as it will depend on the value of `high`. So instead we implement it as a dependent property.\n",
    "\n",
    "Our distribution then looks as follows:\n",
    "```python\n",
    "class RightTruncatedNormal(Distribution):\n",
    "    arg_constraints = {\n",
    "        \"loc\": constraints.real,\n",
    "        \"scale\": constraints.positive,\n",
    "        \"high\": right_extended_real,\n",
    "    }\n",
    "    reparametrized_params = [\"loc\", \"scale\", \"high\"]\n",
    "    \n",
    "    # ...\n",
    "    \n",
    "    @constraints.dependent_property\n",
    "    def support(self):\n",
    "        return constraints.lower_than(self.high)\n",
    "```\n",
    "\n",
    "#### The `__init__` method\n",
    "Once again we take inspiration from the [source code](https://github.com/pyro-ppl/numpyro/blob/0664c2d2dd1eb5f41ea6a0bcef91e5fa2a417ce5/numpyro/distributions/continuous.py#L1342) for the normal distribution. The key point is the use of `lax` and `jax` to check the shapes of the arguments passed and make sure that such shapes are consistent for broadcasting. We follow the same pattern for our use case -- all we need to do is include the `high` parameter.\n",
    "\n",
    "In the source implementation of `Normal`, both parameters `loc` and `scale` are given defaults so that one recovers a standard normal distribution if no arguments are specified. In the same spirit, we choose `float(\"inf\")` as a default for our `high` which would be equivalent to no truncation.\n",
    "\n",
    "```python\n",
    "# ...\n",
    "    def __init__(self, loc=0.0, scale=1.0, high=float(\"inf\"), validate_args=None):\n",
    "        batch_shape = lax.broadcast_shapes(\n",
    "            jnp.shape(loc),\n",
    "            jnp.shape(scale),\n",
    "            jnp.shape(high),\n",
    "        )\n",
    "        self.loc, self.scale, self.high = promote_shapes(loc, scale, high)\n",
    "        super().__init__(batch_shape, validate_args=validate_args)\n",
    "# ...\n",
    "```\n",
    "\n",
    "#### The `log_prob` method\n",
    "For a truncated distribution, the log density is given by\n",
    "\n",
    "\\begin{equation}\n",
    "  \\log p_Z(z) =\n",
    "    \\begin{cases}\n",
    "      \\log p_Y(z) - \\log M & \\text{if $z$ is in $T$}\\\\\n",
    "      -\\infty & \\text{if $z$ is outside $T$}\\\\\n",
    "    \\end{cases}       \n",
    "\\end{equation}\n",
    "\n",
    "where, again, $p_Z$ is the density of the truncated distribution, $p_Y$ is the density before truncation, and $M = \\int_T p_Y(y)\\mathrm{d}y$. For the specific case of truncating the normal distribution to the interval `(-inf, high)`, the constant $M$ is equal to the cumulative density evaluated at the truncation point. We can easily implement this log-density method because `jax.scipy.stats` already has a `norm` module that we can use.\n",
    "\n",
    "```python\n",
    "# ...\n",
    "    def log_prob(self, value):\n",
    "        log_m = norm.logcdf(self.high, self.loc, self.scale)\n",
    "        log_p = norm.logpdf(value, self.loc, self.scale)\n",
    "        return jnp.where(value < self.high, log_p - log_m, -jnp.inf)\n",
    "# ...\n",
    "```\n",
    "\n",
    "#### The `sample` method\n",
    "\n",
    "To implement the sample method using inverse-transform sampling, we need to also implement the inverse cumulative distribution function. For this, we can use the `ndtri` function that lives inside `jax.scipy.special`. This function returns the inverse cdf for the standard normal distribution. We can do a bit of algebra to obtain the inverse cdf of the truncated, non-standard normal. First recall that if $X\\sim Normal(0, 1)$ and $Y = \\mu + \\sigma X$, then $Y\\sim Normal(\\mu, \\sigma)$. Then if $Z$ is the truncated $Y$, its cumulative density is given by:\n",
    "\n",
    "\\begin{align}\n",
    "F_Z(y) &= \\int_{-\\infty}^{y}p_Z(r)dr\\newline\n",
    "       &= \\frac{1}{M}\\int_{-\\infty}^{y}p_Y(s)ds \\quad\\text{if $y < high$} \\newline\n",
    "       &= \\frac{1}{M}F_Y(y)\n",
    "\\end{align}\n",
    "\n",
    "And so its inverse is\n",
    "\n",
    "\\begin{align}\n",
    "F_Z^{-1}(u) = \\left(\\frac{1}{M}F_Y\\right)^{-1}(u)\n",
    "            = F_Y^{-1}(M u)\n",
    "            = F_{\\mu + \\sigma X}^{-1}(Mu)\n",
    "            = \\mu + \\sigma F_X^{-1}(Mu)\n",
    "\\end{align}\n",
    "\n",
    "The translation of the above math into code is\n",
    "\n",
    "```python\n",
    "# ...\n",
    "    def sample(self, key, sample_shape=()):\n",
    "        shape = sample_shape + self.batch_shape\n",
    "        minval = jnp.finfo(jnp.result_type(float)).tiny\n",
    "        u = random.uniform(key, shape, minval=minval)\n",
    "        return self.icdf(u)\n",
    "\n",
    "\n",
    "    def icdf(self, u):\n",
    "        m = norm.cdf(self.high, self.loc, self.scale)\n",
    "        return self.loc + self.scale * ndtri(m * u)\n",
    "```\n",
    "\n",
    "With everything in place, the final implementation is as below."
   ]
  },
  {
   "cell_type": "code",
   "execution_count": 2,
   "id": "bef4c680",
   "metadata": {},
   "outputs": [],
   "source": [
    "class _RightExtendedReal(constraints.Constraint):\n",
    "    \"\"\"\n",
    "    Any number in the interval (-inf, inf].\n",
    "    \"\"\"\n",
    "\n",
    "    def __call__(self, x):\n",
    "        return (x == x) & (x != float(\"-inf\"))\n",
    "\n",
    "    def feasible_like(self, prototype):\n",
    "        return jnp.zeros_like(prototype)\n",
    "\n",
    "\n",
    "right_extended_real = _RightExtendedReal()\n",
    "\n",
    "\n",
    "class RightTruncatedNormal(Distribution):\n",
    "    \"\"\"\n",
    "    A truncated Normal distribution.\n",
    "    :param numpy.ndarray loc: location parameter of the untruncated normal\n",
    "    :param numpy.ndarray scale: scale parameter of the untruncated normal\n",
    "    :param numpy.ndarray high: point at which the truncation happens\n",
    "    \"\"\"\n",
    "\n",
    "    arg_constraints = {\n",
    "        \"loc\": constraints.real,\n",
    "        \"scale\": constraints.positive,\n",
    "        \"high\": right_extended_real,\n",
    "    }\n",
    "    reparametrized_params = [\"loc\", \"scale\", \"high\"]\n",
    "\n",
    "    def __init__(self, loc=0.0, scale=1.0, high=float(\"inf\"), validate_args=True):\n",
    "        batch_shape = lax.broadcast_shapes(\n",
    "            jnp.shape(loc),\n",
    "            jnp.shape(scale),\n",
    "            jnp.shape(high),\n",
    "        )\n",
    "        self.loc, self.scale, self.high = promote_shapes(loc, scale, high)\n",
    "        super().__init__(batch_shape, validate_args=validate_args)\n",
    "\n",
    "    def log_prob(self, value):\n",
    "        log_m = norm.logcdf(self.high, self.loc, self.scale)\n",
    "        log_p = norm.logpdf(value, self.loc, self.scale)\n",
    "        return jnp.where(value < self.high, log_p - log_m, -jnp.inf)\n",
    "\n",
    "    def sample(self, key, sample_shape=()):\n",
    "        shape = sample_shape + self.batch_shape\n",
    "        minval = jnp.finfo(jnp.result_type(float)).tiny\n",
    "        u = random.uniform(key, shape, minval=minval)\n",
    "        return self.icdf(u)\n",
    "\n",
    "    def icdf(self, u):\n",
    "        m = norm.cdf(self.high, self.loc, self.scale)\n",
    "        return self.loc + self.scale * ndtri(m * u)\n",
    "\n",
    "    @constraints.dependent_property\n",
    "    def support(self):\n",
    "        return constraints.less_than(self.high)"
   ]
  },
  {
   "cell_type": "markdown",
   "id": "d4175f2e",
   "metadata": {},
   "source": [
    "Let's try it out!"
   ]
  },
  {
   "cell_type": "code",
   "execution_count": 3,
   "id": "d3792cd1",
   "metadata": {},
   "outputs": [],
   "source": [
    "def truncated_normal_model(num_observations, x=None):\n",
    "    loc = numpyro.sample(\"loc\", dist.Normal())\n",
    "    scale = numpyro.sample(\"scale\", dist.LogNormal())\n",
    "    high = numpyro.sample(\"high\", dist.Normal())\n",
    "    with numpyro.plate(\"observations\", num_observations):\n",
    "        numpyro.sample(\"x\", RightTruncatedNormal(loc, scale, high), obs=x)"
   ]
  },
  {
   "cell_type": "code",
   "execution_count": 4,
   "id": "fcc1b782",
   "metadata": {},
   "outputs": [],
   "source": [
    "num_observations = 250\n",
    "num_prior_samples = 100\n",
    "prior = Predictive(truncated_normal_model, num_samples=num_prior_samples)\n",
    "prior_samples = prior(RNG, num_observations)"
   ]
  },
  {
   "cell_type": "markdown",
   "id": "e7ff52c5",
   "metadata": {},
   "source": [
    "To test our inference, we run mcmc against some synthetic data.\n",
    "We select any random sample from the prior as the ground truth:"
   ]
  },
  {
   "cell_type": "code",
   "execution_count": 5,
   "id": "9483511e",
   "metadata": {},
   "outputs": [],
   "source": [
    "true_idx = 0\n",
    "true_loc = prior_samples[\"loc\"][true_idx]\n",
    "true_scale = prior_samples[\"scale\"][true_idx]\n",
    "true_high = prior_samples[\"high\"][true_idx]\n",
    "true_x = prior_samples[\"x\"][true_idx]"
   ]
  },
  {
   "cell_type": "code",
   "execution_count": 6,
   "id": "e471c6ff",
   "metadata": {},
   "outputs": [
    {
     "data": {
      "image/png": "[encoded data removed]",
      "text/plain": [
       "<Figure size 432x288 with 1 Axes>"
      ]
     },
     "metadata": {
      "needs_background": "light"
     },
     "output_type": "display_data"
    }
   ],
   "source": [
    "plt.hist(true_x, bins=20)\n",
    "plt.axvline(true_high, linestyle=\":\", color=\"k\")\n",
    "plt.xlabel(\"x\")\n",
    "plt.show()"
   ]
  },
  {
   "cell_type": "markdown",
   "id": "235cd8f4",
   "metadata": {},
   "source": [
    "Run MCMC and check the estimates:"
   ]
  },
  {
   "cell_type": "code",
   "execution_count": 7,
   "id": "d3a979e5",
   "metadata": {},
   "outputs": [
    {
     "name": "stderr",
     "output_type": "stream",
     "text": [
      "sample: 100%|███████████████████████████████████████████████████████████████████████████████████████████████████████████████████████| 4000/4000 [00:01<00:00, 2426.62it/s, 3 steps of size 1.74e-01. acc. prob=0.73]\n",
      "sample: 100%|█████████████████████████████████████████████████████████████████████████████████████████████████████████████████████| 4000/4000 [00:00<00:00, 17030.70it/s, 11 steps of size 1.26e-01. acc. prob=0.79]\n",
      "sample: 100%|█████████████████████████████████████████████████████████████████████████████████████████████████████████████████████| 4000/4000 [00:00<00:00, 12800.69it/s, 26 steps of size 1.75e-02. acc. prob=0.93]\n",
      "sample: 100%|██████████████████████████████████████████████████████████████████████████████████████████████████████████████████████| 4000/4000 [00:00<00:00, 16592.33it/s, 5 steps of size 1.03e-01. acc. prob=0.83]\n"
     ]
    },
    {
     "name": "stdout",
     "output_type": "stream",
     "text": [
      "\n",
      "                mean       std    median      5.0%     95.0%     n_eff     r_hat\n",
      "      high      0.08      0.00      0.08      0.08      0.08    736.20      1.00\n",
      "       loc      1.35      0.54      1.28      0.45      2.18    128.85      1.03\n",
      "     scale      0.93      0.13      0.92      0.73      1.15    142.55      1.02\n",
      "\n",
      "Number of divergences: 6496\n"
     ]
    }
   ],
   "source": [
    "mcmc = MCMC(NUTS(truncated_normal_model), **MCMC_KWARGS)\n",
    "mcmc.run(RNG, num_observations, true_x)\n",
    "mcmc.print_summary()"
   ]
  },
  {
   "cell_type": "markdown",
   "id": "d57f0535",
   "metadata": {},
   "source": [
    "Compare estimates against the ground truth:"
   ]
  },
  {
   "cell_type": "code",
   "execution_count": 8,
   "id": "dedf4f61",
   "metadata": {},
   "outputs": [
    {
     "name": "stdout",
     "output_type": "stream",
     "text": [
      "True high : 0.08\n",
      "True loc  : 1.09\n",
      "True scale: 0.84\n"
     ]
    }
   ],
   "source": [
    "print(f\"True high : {true_high:3.2f}\")\n",
    "print(f\"True loc  : {true_loc:3.2f}\")\n",
    "print(f\"True scale: {true_scale:3.2f}\")"
   ]
  },
  {
   "cell_type": "markdown",
   "id": "552e4b15",
   "metadata": {},
   "source": [
    "Note that, even though we can recover good estimates for the true values,\n",
    "we had a very high number of divergences. These divergences happen because\n",
    "introducing the truncation makes the log-density not smooth (the NUTS\n",
    "algorithm relies on the differentiability of the posterior). If you need to\n",
    "infer the truncation point, make sure to be extra careful and do additional\n",
    "checks on your inferences!\n",
    "\n",
    "The results are more reliable when the truncation point is already known:"
   ]
  },
  {
   "cell_type": "code",
   "execution_count": 9,
   "id": "dd377bf8",
   "metadata": {},
   "outputs": [],
   "source": [
    "model_with_known_high = numpyro.handlers.condition(\n",
    "    truncated_normal_model, {\"high\": true_high}\n",
    ")"
   ]
  },
  {
   "cell_type": "code",
   "execution_count": 10,
   "id": "22cf5cc6",
   "metadata": {},
   "outputs": [
    {
     "name": "stderr",
     "output_type": "stream",
     "text": [
      "sample: 100%|██████████████████████████████████████████████████████████████████████████████████████████████████████████████████████| 4000/4000 [00:01<00:00, 2734.95it/s, 17 steps of size 2.13e-01. acc. prob=0.92]\n",
      "sample: 100%|█████████████████████████████████████████████████████████████████████████████████████████████████████████████████████| 4000/4000 [00:00<00:00, 19170.76it/s, 11 steps of size 1.77e-01. acc. prob=0.94]\n",
      "sample: 100%|██████████████████████████████████████████████████████████████████████████████████████████████████████████████████████| 4000/4000 [00:00<00:00, 18432.83it/s, 3 steps of size 1.82e-01. acc. prob=0.94]\n",
      "sample: 100%|█████████████████████████████████████████████████████████████████████████████████████████████████████████████████████| 4000/4000 [00:00<00:00, 18333.99it/s, 23 steps of size 1.75e-01. acc. prob=0.95]"
     ]
    },
    {
     "name": "stdout",
     "output_type": "stream",
     "text": [
      "\n",
      "                mean       std    median      5.0%     95.0%     n_eff     r_hat\n",
      "       loc      1.41      0.56      1.34      0.53      2.25   1285.24      1.00\n",
      "     scale      0.95      0.13      0.94      0.74      1.15   1308.89      1.00\n",
      "\n",
      "Number of divergences: 0\n"
     ]
    },
    {
     "name": "stderr",
     "output_type": "stream",
     "text": [
      "\n"
     ]
    }
   ],
   "source": [
    "mcmc = MCMC(NUTS(model_with_known_high), **MCMC_KWARGS)\n",
    "mcmc.run(RNG, num_observations, true_x)\n",
    "mcmc.print_summary()"
   ]
  },
  {
   "cell_type": "markdown",
   "id": "d5454e89",
   "metadata": {},
   "source": [
    "**A quick note about making predictions**\n",
    "\n",
    "In practice, we usually want to understand how the data\n",
    "would look like without the truncation. To do that in NumPyro,\n",
    "there is no need of writing a separate model, we can simply\n",
    "rely on the `condition` handler to remove the truncation:"
   ]
  },
  {
   "cell_type": "code",
   "execution_count": 11,
   "id": "3a3c6831",
   "metadata": {},
   "outputs": [],
   "source": [
    "model_without_truncation = numpyro.handlers.condition(\n",
    "    model_with_known_high,\n",
    "    {\"high\": float(\"inf\")},\n",
    ")\n",
    "posterior = Predictive(\n",
    "    model_without_truncation,\n",
    "    posterior_samples=mcmc.get_samples(),\n",
    ")\n",
    "posterior_samples = posterior(RNG, num_observations=2270)"
   ]
  },
  {
   "cell_type": "code",
   "execution_count": 12,
   "id": "6139d303",
   "metadata": {},
   "outputs": [],
   "source": [
    "# thin the samples for a faster histogram\n",
    "posterior_example = posterior_samples[\"x\"].ravel()[::1000]"
   ]
  },
  {
   "cell_type": "code",
   "execution_count": 13,
   "id": "28877060",
   "metadata": {},
   "outputs": [
    {
     "data": {
      "image/png": "[encoded data removed]",
      "text/plain": [
       "<Figure size 1080x360 with 2 Axes>"
      ]
     },
     "metadata": {
      "needs_background": "light"
     },
     "output_type": "display_data"
    }
   ],
   "source": [
    "f, axes = plt.subplots(1, 2, figsize=(15, 5))\n",
    "\n",
    "axes[0].hist(posterior_example, label=\"Untruncated posterior\", bins=20, density=True)\n",
    "axes[0].axvline(true_high, linestyle=\":\", color=\"k\", label=\"Truncation point\")\n",
    "axes[0].set_title(\"Untruncated posterior\")\n",
    "axes[0].legend()\n",
    "\n",
    "axes[1].hist(\n",
    "    posterior_example[posterior_example < true_high],\n",
    "    label=\"Tail of untruncated posterior\",\n",
    "    bins=20,\n",
    "    density=True,\n",
    ")\n",
    "axes[1].hist(true_x, label=\"Observed, truncated data\", density=True, alpha=0.5)\n",
    "axes[1].axvline(true_high, linestyle=\":\", color=\"k\", label=\"Truncation point\")\n",
    "axes[1].set_title(\"Comparison to observed data\")\n",
    "axes[1].legend()\n",
    "plt.show()"
   ]
  },
  {
   "cell_type": "markdown",
   "id": "8ed9169a",
   "metadata": {},
   "source": [
    "### Example: Left-truncated Poisson <a class=\"anchor\" id=\"4.2\"></a>\n",
    "\n",
    "We now implement a left-truncated Poisson distribution.\n",
    "Note that a right-truncated Poisson could be reformulated as a particular\n",
    "case of a categorical distribution, so we focus on the less trivial case.\n",
    "\n",
    "#### Class attributes.\n",
    "For a truncated Poisson we need two parameters, the `rate` of the original Poisson\n",
    "distribution and a `low` parameter to indicate the truncation point.\n",
    "As this is a discrete distribution, we need to clarify whether or not the truncation point is included\n",
    "in the support. In this tutorial, we'll take the convention that the truncation point `low`\n",
    "_is_ part of the support.\n",
    "\n",
    "The `low` parameter has to be given a 'non-negative integer' constraint. As it is a discrete parameter, it will not be possible to do inference for this parameter using `NUTS`. This is likely not a problem since the truncation point is often known in advance. However, if we really must infer the `low` parameter, it is possible to do so with `DiscreteHMCGibbs` though one is limited to using priors with enumerate support.\n",
    "\n",
    "Like in the case of the truncated normal, the support of this distribution will be defined as a property and not as a class attribute because it depends on the specific value of the `low` parameter.\n",
    "```python\n",
    "class LeftTruncatedPoisson:\n",
    "    arg_constraints = {\n",
    "        \"low\": constraints.nonnegative_integer,\n",
    "        \"rate\": constraints.positive,\n",
    "    }\n",
    "    \n",
    "    # ... \n",
    "    @constraints.dependent_property(is_discrete=True)\n",
    "    def support(self):\n",
    "        return constraints.integer_greater_than(self.low - 1)\n",
    "```\n",
    "\n",
    "The `is_discrete` argument passed in the `dependent_property` decorator is used to tell the inference algorithms which variables are discrete latent variables.\n",
    "\n",
    "#### The `__init__` method\n",
    "Here we just follow the same pattern as in the previous example.\n",
    "```python\n",
    "    # ...\n",
    "    def __init__(self, rate=1.0, low=0, validate_args=None):\n",
    "        batch_shape = lax.broadcast_shapes(\n",
    "            jnp.shape(low), jnp.shape(rate)\n",
    "        )\n",
    "        self.low, self.rate = promote_shapes(low, rate)\n",
    "        super().__init__(batch_shape, validate_args=validate_args)\n",
    "    # ...\n",
    "```\n",
    "\n",
    "\n",
    "#### The `log_prob` method\n",
    "The logic is very similar to the truncated normal case. But this time we are truncating on the left, so the correct normalization is the complementary cumulative density:\n",
    "\n",
    "\\begin{align}\n",
    "M = \\sum_{n=L}^{\\infty} p_Y(n) = 1 - \\sum_{n=0}^{L - 1} p_Y(n) = 1 - F_Y(L - 1)\n",
    "\\end{align}\n",
    "\n",
    "For the code, we can rely on the `poisson` module that lives inside `jax.scipy.stats`.\n",
    "\n",
    "```python\n",
    "    # ...\n",
    "    def log_prob(self, value):\n",
    "        m = 1 - poisson.cdf(self.low - 1, self.rate)\n",
    "        log_p = poisson.logpmf(value, self.rate)\n",
    "        return jnp.where(value >= self.low, log_p - jnp.log(m), -jnp.inf)\n",
    "    # ...\n",
    "```\n",
    "#### The `sample` method.\n",
    "Inverse-transform sampling also works for discrete distributions. The \"inverse\" cdf of a discrete distribution being defined as:\n",
    "\n",
    "\\begin{align}\n",
    "F^{-1}(u) = \\max\\left\\{n\\in \\mathbb{N} \\rvert F(n) \\lt u\\right\\}\n",
    "\\end{align}\n",
    "\n",
    "Or, in plain English, $F^{-1}(u)$ is the highest number for which the cumulative density is less than $u$.\n",
    "However, there's currently no implementation of $F^{-1}$ for the Poisson distribution in Jax (at least, at the moment of writing this tutorial). We have to rely on our own implementation. Fortunately, we can take advantage of the discrete nature of the distribution and easily implement a \"brute-force\" version that will work for most cases. The brute force approach consists of simply scanning all non-negative integers in order, one by one, until the value of the cumulative density exceeds the argument $u$. The implicit requirement is that we need a way to evaluate the cumulative density for the truncated distribution, but we can calculate that:\n",
    "\n",
    "\\begin{align}\n",
    "F_Z(z) &= \\sum_{n=0}^z p_z(n)\\newline\n",
    "       &= \\frac{1}{M}\\sum_{n=L}^z p_Y(n)\\quad \\text{assuming $z >= L$}\\newline\n",
    "       &= \\frac{1}{M}\\left(\\sum_{n=0}^z p_Y(n) - \\sum_{n=0}^{L-1}p_Y(n)\\right)\\newline\n",
    "       &= \\frac{1}{M}\\left(F_Y(z) - F_Y (L-1)\\right)\n",
    "\\end{align}\n",
    "\n",
    "And, of course, the value of $F_Z(z)$ is equal to zero if $z < L$.\n",
    "(As in the previous example, we are using $Y$ to denote the original, un-truncated variable, and we are using $Z$ to denote the truncated variable)\n",
    "\n",
    "```python\n",
    "    # ...\n",
    "    def sample(self, key, sample_shape=()):\n",
    "        shape = sample_shape + self.batch_shape\n",
    "        minval = jnp.finfo(jnp.result_type(float)).tiny\n",
    "        u = random.uniform(key, shape, minval=minval)\n",
    "        return self.icdf(u)\n",
    "\n",
    "    @partial(jax.vmap, in_axes=(None, 0))\n",
    "    def icdf(self, u):\n",
    "        result = lax.while_loop(\n",
    "            lambda n: self.cdf(n, self.rate, self.low) < u,\n",
    "            lambda n: n + 1,\n",
    "            init_val=self.low,\n",
    "        )\n",
    "        return result.astype(jnp.result_type(int))\n",
    "\n",
    "    def cdf(self, value):\n",
    "        m = 1 - poisson.cdf(self.low - 1, self.rate)\n",
    "        f = poisson.cdf(value, self.rate) - poisson.cdf(self.low - 1, self.rate)\n",
    "        return jnp.where(k >= self.low, f / m, 0)\n",
    "```\n",
    "\n",
    "A few warnings with respect to the above implementation:\n",
    "* Even with double precision, if `rate` is much less than `low`, the above code will not work. Due to numerical limitations, one obtains that `poisson.cdf(low - 1, rate)` is equal (or very close) to `1.0`. This makes it impossible to re-weight the distribution accurately because the normalization constant would be `0.0`.\n",
    "* The brute-force `icdf` is of course very slow, particularly when `rate` is high. If you need faster sampling, one option would be to rely on a faster search algorithm. For example:\n",
    "```python\n",
    "def icdf_faster(self, u):\n",
    "    num_bins = 200 # Choose a reasonably large value\n",
    "    bins = jnp.arange(num_bins)\n",
    "    cdf = self.cdf(bins)\n",
    "    indices = jnp.searchsorted(cdf, u)\n",
    "    return bins[indices]\n",
    "```\n",
    "The obvious limitation here is that the number of bins has to be fixed a priori (jax does not allow for dynamically sized arrays). Another option would be to rely on an _approximate_ implementation, as proposed in [this article](https://people.maths.ox.ac.uk/gilesm/codes/poissinv/paper.pdf).\n",
    "* Yet another alternative for the `icdf` is to rely on `scipy`'s implementation and make use of Jax's `host_callback` module. This feature allows you to use Python functions without having to code them in `Jax`. This means that we can simply make use of `scipy`'s implementation of the Poisson ICDF! From the last equation, we can write the _truncated_ icdf as:\n",
    "\\begin{align}\n",
    "F_Z^{-1}(u) = F_Y^{-1}(Mu + F_Y(L-1))\n",
    "\\end{align}\n",
    "    And in python:\n",
    "\n",
    "```python\n",
    "    def scipy_truncated_poisson_icdf(args): # Note: all arguments are passed inside a tuple\n",
    "        rate, low, u = args\n",
    "        rate = np.asarray(rate)\n",
    "        low = np.asarray(low)\n",
    "        u = np.asarray(u)\n",
    "        density = sp_poisson(rate)\n",
    "        low_cdf = density.cdf(low - 1)\n",
    "        normalizer = 1.0 - low_cdf\n",
    "        x = normalizer * u + low_cdf\n",
    "        return density.ppf(x)\n",
    "```\n",
    "In principle, it wouldn't be possible to use the above function in our NumPyro distribution because it is not  coded in Jax. The `jax.experimental.host_callback.call` function solves precisely that problem. The code below shows you how to use it, but keep in mind that this is currently an experimental feature so you should expect changes to the module. If you're interested, the docstring for the `host_callback` module has a detailed explanation.\n",
    "\n",
    "```python\n",
    "    # ...\n",
    "    def icdf_scipy(self, u):\n",
    "        result_shape = jax.ShapeDtypeStruct(\n",
    "            u.shape,\n",
    "            jnp.result_type(float) # int type not currently supported\n",
    "        )\n",
    "        result = jax.experimental.host_callback.call(\n",
    "            scipy_truncated_poisson_icdf,\n",
    "            (self.rate, self.low, u),\n",
    "            result_shape=result_shape\n",
    "        )\n",
    "        return result.astype(jnp.result_type(int))\n",
    "    # ...\n",
    "```"
   ]
  },
  {
   "cell_type": "markdown",
   "id": "d4ca08a9",
   "metadata": {},
   "source": [
    "Putting it all together, the implementation is as below:"
   ]
  },
  {
   "cell_type": "code",
   "execution_count": 14,
   "id": "13a86497",
   "metadata": {},
   "outputs": [],
   "source": [
    "def scipy_truncated_poisson_icdf(args):  # Note: all arguments are passed inside a tuple\n",
    "    rate, low, u = args\n",
    "    rate = np.asarray(rate)\n",
    "    low = np.asarray(low)\n",
    "    u = np.asarray(u)\n",
    "    density = sp_poisson(rate)\n",
    "    low_cdf = density.cdf(low - 1)\n",
    "    normalizer = 1.0 - low_cdf\n",
    "    x = normalizer * u + low_cdf\n",
    "    return density.ppf(x)\n",
    "\n",
    "\n",
    "class LeftTruncatedPoisson(Distribution):\n",
    "    \"\"\"\n",
    "    A truncated Poisson distribution.\n",
    "    :param numpy.ndarray low: lower bound at which truncation happens\n",
    "    :param numpy.ndarray rate: rate of the Poisson distribution.\n",
    "    \"\"\"\n",
    "\n",
    "    arg_constraints = {\n",
    "        \"low\": constraints.nonnegative_integer,\n",
    "        \"rate\": constraints.positive,\n",
    "    }\n",
    "\n",
    "    def __init__(self, rate=1.0, low=0, validate_args=None):\n",
    "        batch_shape = lax.broadcast_shapes(jnp.shape(low), jnp.shape(rate))\n",
    "        self.low, self.rate = promote_shapes(low, rate)\n",
    "        super().__init__(batch_shape, validate_args=validate_args)\n",
    "\n",
    "    def log_prob(self, value):\n",
    "        m = 1 - poisson.cdf(self.low - 1, self.rate)\n",
    "        log_p = poisson.logpmf(value, self.rate)\n",
    "        return jnp.where(value >= self.low, log_p - jnp.log(m), -jnp.inf)\n",
    "\n",
    "    def sample(self, key, sample_shape=()):\n",
    "        shape = sample_shape + self.batch_shape\n",
    "        float_type = jnp.result_type(float)\n",
    "        minval = jnp.finfo(float_type).tiny\n",
    "        u = random.uniform(key, shape, minval=minval)\n",
    "        # return self.icdf(u)        # Brute force\n",
    "        # return self.icdf_faster(u) # For faster sampling.\n",
    "        return self.icdf_scipy(u)  # Using `host_callback`\n",
    "\n",
    "    @partial(jax.vmap, in_axes=(None, 0))\n",
    "    def icdf(self, u):\n",
    "        result = lax.while_loop(\n",
    "            lambda n: self.cdf(n) < u,\n",
    "            lambda n: n + 1,\n",
    "            init_val=self.low,\n",
    "        )\n",
    "        return result.astype(jnp.result_type(int))\n",
    "\n",
    "    def icdf_faster(self, u):\n",
    "        num_bins = 200  # Choose a reasonably large value\n",
    "        bins = jnp.arange(num_bins)\n",
    "        cdf = self.cdf(bins)\n",
    "        indices = jnp.searchsorted(cdf, u)\n",
    "        return bins[indices]\n",
    "\n",
    "    def icdf_scipy(self, u):\n",
    "        result_shape = jax.ShapeDtypeStruct(u.shape, jnp.result_type(float))\n",
    "        result = jax.experimental.host_callback.call(\n",
    "            scipy_truncated_poisson_icdf,\n",
    "            (self.rate, self.low, u),\n",
    "            result_shape=result_shape,\n",
    "        )\n",
    "        return result.astype(jnp.result_type(int))\n",
    "\n",
    "    def cdf(self, value):\n",
    "        m = 1 - poisson.cdf(self.low - 1, self.rate)\n",
    "        f = poisson.cdf(value, self.rate) - poisson.cdf(self.low - 1, self.rate)\n",
    "        return jnp.where(value >= self.low, f / m, 0)\n",
    "\n",
    "    @constraints.dependent_property(is_discrete=True)\n",
    "    def support(self):\n",
    "        return constraints.integer_greater_than(self.low - 1)"
   ]
  },
  {
   "cell_type": "markdown",
   "id": "ba41bcd9",
   "metadata": {},
   "source": [
    "Let's try it out!"
   ]
  },
  {
   "cell_type": "code",
   "execution_count": 15,
   "id": "3356242e",
   "metadata": {},
   "outputs": [],
   "source": [
    "def discrete_distplot(samples, ax=None, **kwargs):\n",
    "    \"\"\"\n",
    "    Utility function for plotting the samples as a barplot.\n",
    "    \"\"\"\n",
    "    x, y = jnp.unique(samples, return_counts=True)\n",
    "    y = y / sum(y)\n",
    "    if ax is None:\n",
    "        ax = plt.gca()\n",
    "\n",
    "    ax.bar(x, y, **kwargs)\n",
    "    return ax"
   ]
  },
  {
   "cell_type": "markdown",
   "id": "a8b4fd99",
   "metadata": {},
   "source": [
    "#### Sampling"
   ]
  },
  {
   "cell_type": "code",
   "execution_count": 16,
   "id": "5591d56a",
   "metadata": {},
   "outputs": [
    {
     "data": {
      "image/png": "[encoded data removed]",
      "text/plain": [
       "<Figure size 432x288 with 1 Axes>"
      ]
     },
     "metadata": {
      "needs_background": "light"
     },
     "output_type": "display_data"
    }
   ],
   "source": [
    "d = LeftTruncatedPoisson(5, 10)\n",
    "samples = d.sample(RNG, sample_shape=(1000,))\n",
    "discrete_distplot(samples);"
   ]
  },
  {
   "cell_type": "markdown",
   "id": "67e21342",
   "metadata": {},
   "source": [
    "#### Inference"
   ]
  },
  {
   "cell_type": "code",
   "execution_count": 17,
   "id": "6103409f",
   "metadata": {},
   "outputs": [],
   "source": [
    "def truncated_poisson_model(num_observations, x=None):\n",
    "    low = numpyro.sample(\"low\", dist.Categorical(0.2 * jnp.ones((5,))))\n",
    "    rate = numpyro.sample(\"rate\", dist.LogNormal(1, 1))\n",
    "    with numpyro.plate(\"observations\", num_observations):\n",
    "        numpyro.sample(\"x\", LeftTruncatedPoisson(rate, low), obs=x)"
   ]
  },
  {
   "cell_type": "code",
   "execution_count": 18,
   "id": "4c28722b",
   "metadata": {},
   "outputs": [],
   "source": [
    "# -- prior samples\n",
    "num_observations = 1000\n",
    "num_prior_samples = 100\n",
    "prior = Predictive(truncated_poisson_model, num_samples=num_prior_samples)\n",
    "prior_samples = prior(RNG, num_observations)"
   ]
  },
  {
   "cell_type": "code",
   "execution_count": 19,
   "id": "2c97134f",
   "metadata": {},
   "outputs": [
    {
     "data": {
      "image/png": "[encoded data removed]",
      "text/plain": [
       "<Figure size 432x288 with 1 Axes>"
      ]
     },
     "metadata": {
      "needs_background": "light"
     },
     "output_type": "display_data"
    }
   ],
   "source": [
    "# Take any prior sample as the true process.\n",
    "true_idx = 4\n",
    "true_low = prior_samples[\"low\"][true_idx]\n",
    "true_rate = prior_samples[\"rate\"][true_idx]\n",
    "true_x = prior_samples[\"x\"][true_idx]\n",
    "discrete_distplot(true_x);"
   ]
  },
  {
   "cell_type": "code",
   "execution_count": 20,
   "id": "c6fdc77e",
   "metadata": {},
   "outputs": [],
   "source": [
    "# Note the use of DiscreteHMCGibbs\n",
    "mcmc = MCMC(DiscreteHMCGibbs(NUTS(truncated_poisson_model)), **MCMC_KWARGS)"
   ]
  },
  {
   "cell_type": "code",
   "execution_count": 21,
   "id": "70136785",
   "metadata": {},
   "outputs": [
    {
     "name": "stderr",
     "output_type": "stream",
     "text": [
      "sample: 100%|███████████████████████████████████████████████████████████████████████████████████████████████████████████████████████| 4000/4000 [00:02<00:00, 1845.68it/s, 1 steps of size 1.00e+00. acc. prob=0.92]\n",
      "sample: 100%|██████████████████████████████████████████████████████████████████████████████████████████████████████████████████████| 4000/4000 [00:00<00:00, 10525.78it/s, 3 steps of size 8.36e-01. acc. prob=0.94]\n",
      "sample: 100%|██████████████████████████████████████████████████████████████████████████████████████████████████████████████████████| 4000/4000 [00:00<00:00, 10640.65it/s, 3 steps of size 8.65e-01. acc. prob=0.94]\n",
      "sample: 100%|██████████████████████████████████████████████████████████████████████████████████████████████████████████████████████| 4000/4000 [00:00<00:00, 10811.05it/s, 3 steps of size 1.02e+00. acc. prob=0.92]"
     ]
    },
    {
     "name": "stdout",
     "output_type": "stream",
     "text": [
      "\n",
      "                mean       std    median      5.0%     95.0%     n_eff     r_hat\n",
      "       low      4.00      0.00      4.00      4.00      4.00       nan       nan\n",
      "      rate      8.61      0.10      8.61      8.45      8.78   2615.67      1.00\n",
      "\n"
     ]
    },
    {
     "name": "stderr",
     "output_type": "stream",
     "text": [
      "\n"
     ]
    }
   ],
   "source": [
    "mcmc.run(RNG, num_observations, true_x)\n",
    "mcmc.print_summary()"
   ]
  },
  {
   "cell_type": "markdown",
   "id": "f4be5ea6",
   "metadata": {},
   "source": [
    "We also see some \"ugly\" diagnostics here simply because the `low` parameter is estimated with\n",
    "no uncertainty. As before, one needs to be extra careful when estimating the truncation point.\n",
    "If the truncation point is known is best to provide it."
   ]
  },
  {
   "cell_type": "code",
   "execution_count": 22,
   "id": "b93149d1",
   "metadata": {},
   "outputs": [],
   "source": [
    "model_with_known_low = numpyro.handlers.condition(\n",
    "    truncated_poisson_model, {\"low\": true_low}\n",
    ")"
   ]
  },
  {
   "cell_type": "markdown",
   "id": "4b0340ac",
   "metadata": {},
   "source": [
    "And note we can use NUTS directly because there's no need to infer any discrete parameters."
   ]
  },
  {
   "cell_type": "code",
   "execution_count": 23,
   "id": "bcbcc6d8",
   "metadata": {},
   "outputs": [],
   "source": [
    "mcmc = MCMC(\n",
    "    NUTS(model_with_known_low),\n",
    "    **MCMC_KWARGS,\n",
    ")"
   ]
  },
  {
   "cell_type": "code",
   "execution_count": 24,
   "id": "b3c6f6ab",
   "metadata": {},
   "outputs": [
    {
     "name": "stderr",
     "output_type": "stream",
     "text": [
      "sample: 100%|███████████████████████████████████████████████████████████████████████████████████████████████████████████████████████| 4000/4000 [00:01<00:00, 2766.60it/s, 1 steps of size 1.18e+00. acc. prob=0.88]\n",
      "sample: 100%|██████████████████████████████████████████████████████████████████████████████████████████████████████████████████████| 4000/4000 [00:00<00:00, 11799.00it/s, 3 steps of size 1.02e+00. acc. prob=0.92]\n",
      "sample: 100%|██████████████████████████████████████████████████████████████████████████████████████████████████████████████████████| 4000/4000 [00:00<00:00, 12015.84it/s, 3 steps of size 1.13e+00. acc. prob=0.90]\n",
      "sample: 100%|██████████████████████████████████████████████████████████████████████████████████████████████████████████████████████| 4000/4000 [00:00<00:00, 11813.17it/s, 3 steps of size 9.07e-01. acc. prob=0.94]"
     ]
    },
    {
     "name": "stdout",
     "output_type": "stream",
     "text": [
      "\n",
      "                mean       std    median      5.0%     95.0%     n_eff     r_hat\n",
      "      rate      8.61      0.10      8.61      8.44      8.77   2827.71      1.00\n",
      "\n",
      "Number of divergences: 0\n"
     ]
    },
    {
     "name": "stderr",
     "output_type": "stream",
     "text": [
      "\n"
     ]
    }
   ],
   "source": [
    "mcmc.run(RNG, num_observations, true_x)\n",
    "mcmc.print_summary()"
   ]
  },
  {
   "cell_type": "markdown",
   "id": "284ca027",
   "metadata": {},
   "source": [
    "## Built-in truncated distributions <a class=\"anchor\" id=\"5\"></a>\n",
    "\n",
    "The above sections show how to construct your own truncated distribution, but you don't have to reinvent the wheel. NumPyro has a bunch of truncated distributions already implemented in the `numpyro.distributions` module.\n",
    "\n",
    "For example, for the `right_truncated_model` we can simply use the `TruncatedNormal` distribution.\n",
    "Note, however, that NumPyro's implementation requires you to provide the truncation point(s),\n",
    "and **it(they) should be provided as a keyword argument(s)** (`loc` and `scale` remain valid positional arguments).\n",
    "\n",
    "This is how we would use it in a model:"
   ]
  },
  {
   "cell_type": "code",
   "execution_count": 25,
   "id": "20e6a266",
   "metadata": {},
   "outputs": [],
   "source": [
    "def truncated_normal_model(num_observations, high, x=None):\n",
    "    loc = numpyro.sample(\"loc\", dist.Normal())\n",
    "    scale = numpyro.sample(\"scale\", dist.LogNormal())\n",
    "    with numpyro.plate(\"observations\", num_observations):\n",
    "        numpyro.sample(\"x\", TruncatedNormal(loc, scale, high=high), obs=x)"
   ]
  },
  {
   "cell_type": "markdown",
   "id": "519360ec",
   "metadata": {},
   "source": [
    "And we quickly repeat our workflow to check that everything is working:"
   ]
  },
  {
   "cell_type": "code",
   "execution_count": 26,
   "id": "71aeac17",
   "metadata": {},
   "outputs": [
    {
     "name": "stderr",
     "output_type": "stream",
     "text": [
      "sample: 100%|██████████████████████████████████████████████████████████████████████████████████████████████████████████████████████| 4000/4000 [00:01<00:00, 3010.43it/s, 11 steps of size 3.12e-01. acc. prob=0.91]\n",
      "sample: 100%|██████████████████████████████████████████████████████████████████████████████████████████████████████████████████████| 4000/4000 [00:00<00:00, 20964.79it/s, 9 steps of size 3.02e-01. acc. prob=0.92]\n",
      "sample: 100%|██████████████████████████████████████████████████████████████████████████████████████████████████████████████████████| 4000/4000 [00:00<00:00, 20822.28it/s, 3 steps of size 3.39e-01. acc. prob=0.93]\n",
      "sample: 100%|█████████████████████████████████████████████████████████████████████████████████████████████████████████████████████| 4000/4000 [00:00<00:00, 20820.65it/s, 11 steps of size 2.93e-01. acc. prob=0.94]\n"
     ]
    },
    {
     "name": "stdout",
     "output_type": "stream",
     "text": [
      "\n",
      "                mean       std    median      5.0%     95.0%     n_eff     r_hat\n",
      "       loc      0.98      0.18      0.95      0.70      1.25   1250.09      1.00\n",
      "     scale      0.81      0.09      0.80      0.67      0.94   1302.44      1.00\n",
      "\n",
      "Number of divergences: 0\n",
      "True loc  : 1.1\n",
      "True scale: 0.84\n"
     ]
    }
   ],
   "source": [
    "# --- sample from the prior\n",
    "high = 1.2\n",
    "num_observations = 250\n",
    "num_prior_samples = 100\n",
    "prior = Predictive(truncated_normal_model, num_samples=num_prior_samples)\n",
    "prior_samples = prior(RNG, num_observations, high)\n",
    "\n",
    "# -- select an arbitrary prior sample as true data\n",
    "true_idx = 0\n",
    "true_loc = prior_samples[\"loc\"][true_idx]\n",
    "true_scale = prior_samples[\"scale\"][true_idx]\n",
    "true_x = prior_samples[\"x\"][true_idx]\n",
    "\n",
    "# --- do posterior inference with NUTS\n",
    "mcmc = MCMC(NUTS(truncated_normal_model), **MCMC_KWARGS)\n",
    "mcmc.run(RNG, num_observations, high, true_x)\n",
    "\n",
    "# --- Check estimates and diagnostics\n",
    "mcmc.print_summary()\n",
    "\n",
    "# --- And compare to ground truth\n",
    "print(f\"True loc  : {true_loc:3.2}\")\n",
    "print(f\"True scale: {true_scale:3.2}\")"
   ]
  },
  {
   "cell_type": "markdown",
   "id": "3d48fad0",
   "metadata": {},
   "source": [
    "The source code for the `TruncatedNormal` in NumPyro uses a class called\n",
    "`TruncatedDistribution` which abstracts away the logic for `sample` and `log_prob` that\n",
    "we discussed in the previous sections - though it only works for continuous variables.\n",
    "You can use this class to quickly construct other truncated distributions, the only requirement\n",
    "is that **the base distribution should have an `icdf` method**. \n",
    "\n",
    "For example, if you need a truncated `SoftLaplace` distribution:"
   ]
  },
  {
   "cell_type": "code",
   "execution_count": 27,
   "id": "7271dee0",
   "metadata": {},
   "outputs": [],
   "source": [
    "def TruncatedSoftLaplace(\n",
    "    loc=0.0, scale=1.0, *, low=None, high=None, validate_args=None\n",
    "):\n",
    "    return TruncatedDistribution(\n",
    "        base_dist=SoftLaplace(loc, scale),\n",
    "        low=low,\n",
    "        high=high,\n",
    "        validate_args=validate_args,\n",
    "    )"
   ]
  },
  {
   "cell_type": "code",
   "execution_count": 28,
   "id": "985593c8",
   "metadata": {},
   "outputs": [],
   "source": [
    "def truncated_soft_laplace_model(num_observations, high, x=None):\n",
    "    loc = numpyro.sample(\"loc\", dist.Normal())\n",
    "    scale = numpyro.sample(\"scale\", dist.LogNormal())\n",
    "    with numpyro.plate(\"obs\", num_observations):\n",
    "        numpyro.sample(\"x\", TruncatedSoftLaplace(loc, scale, high=high), obs=x)"
   ]
  },
  {
   "cell_type": "code",
   "execution_count": 29,
   "id": "2ff0025d",
   "metadata": {},
   "outputs": [
    {
     "name": "stderr",
     "output_type": "stream",
     "text": [
      "sample: 100%|███████████████████████████████████████████████████████████████████████████████████████████████████████████████████████| 4000/4000 [00:01<00:00, 2600.83it/s, 7 steps of size 7.66e-01. acc. prob=0.92]\n",
      "sample: 100%|██████████████████████████████████████████████████████████████████████████████████████████████████████████████████████| 4000/4000 [00:00<00:00, 15728.89it/s, 3 steps of size 8.21e-01. acc. prob=0.91]\n",
      "sample: 100%|██████████████████████████████████████████████████████████████████████████████████████████████████████████████████████| 4000/4000 [00:00<00:00, 14998.51it/s, 7 steps of size 7.06e-01. acc. prob=0.93]\n",
      "sample: 100%|██████████████████████████████████████████████████████████████████████████████████████████████████████████████████████| 4000/4000 [00:00<00:00, 15112.65it/s, 3 steps of size 6.31e-01. acc. prob=0.94]"
     ]
    },
    {
     "name": "stdout",
     "output_type": "stream",
     "text": [
      "\n",
      "                mean       std    median      5.0%     95.0%     n_eff     r_hat\n",
      "       loc      0.94      0.10      0.94      0.78      1.10   3531.19      1.00\n",
      "     scale      0.83      0.07      0.82      0.72      0.94   3982.81      1.00\n",
      "\n",
      "Number of divergences: 0\n",
      "True loc  : 1.1\n",
      "True scale: 0.84\n"
     ]
    },
    {
     "name": "stderr",
     "output_type": "stream",
     "text": [
      "\n"
     ]
    }
   ],
   "source": [
    "high = 2.3\n",
    "num_observations = 200\n",
    "num_prior_samples = 100\n",
    "\n",
    "prior = Predictive(truncated_soft_laplace_model, num_samples=num_prior_samples)\n",
    "prior_samples = prior(RNG, num_observations, high)\n",
    "\n",
    "true_idx = 0\n",
    "true_x = prior_samples[\"x\"][true_idx]\n",
    "true_loc = prior_samples[\"loc\"][true_idx]\n",
    "true_scale = prior_samples[\"scale\"][true_idx]\n",
    "\n",
    "mcmc = MCMC(\n",
    "    NUTS(truncated_soft_laplace_model),\n",
    "    **MCMC_KWARGS,\n",
    ")\n",
    "\n",
    "mcmc.run(\n",
    "    RNG,\n",
    "    num_observations,\n",
    "    high,\n",
    "    true_x,\n",
    ")\n",
    "\n",
    "mcmc.print_summary()\n",
    "\n",
    "print(f\"True loc  : {true_loc:3.2}\")\n",
    "print(f\"True scale: {true_scale:3.2}\")"
   ]
  },
  {
   "cell_type": "markdown",
   "id": "dd150391",
   "metadata": {},
   "source": [
    "Something to keep in mind is that, if you only need to do MCMC,\n",
    "you just need to implement the `log_prob` method. This means that you\n",
    "might be able to do inference with truncated distributions even without\n",
    "the `sample` method (which would be the case if, for example, the base\n",
    "distribution you are trying to truncate does not have an `icdf` method)."
   ]
  },
  {
   "cell_type": "markdown",
   "id": "69c1c440",
   "metadata": {},
   "source": [
    "## Folded distributions\n",
    "\n",
    "To finish up this tutorial, we look at \"folded\" distributions.\n",
    "\n",
    "A very common situation is truncation at zero of a univariate distribution that is symmetric around zero.\n",
    "The most popular examples are the so-called \"half-normal\", \"half-student\" or \"half-cauchy\".\n",
    "This is a special, simpler kind of truncation because the normalization constant of the log-density will always\n",
    "be $1/2$. Even more, sampling can be done by simply taking the absolute value of unfolded samples (no need for inverse-transform sampling).\n",
    "\n",
    "The logic for folded distributions has already been implemented in the `FoldedDistribution` class.\n",
    "Here's how you can use it to define, for instance, a \"half-student\" distribution (`HalfNormal` and `HalfCauchy` are already available)."
   ]
  },
  {
   "cell_type": "code",
   "execution_count": 30,
   "id": "ba0cf57b",
   "metadata": {},
   "outputs": [],
   "source": [
    "def HalfStudentT(df, scale=1.0):\n",
    "    return FoldedDistribution(\n",
    "        StudentT(df, 0.0, scale),  # Note: Folding is always done around zero.\n",
    "    )"
   ]
  },
  {
   "cell_type": "code",
   "execution_count": 31,
   "id": "00f137e9",
   "metadata": {},
   "outputs": [],
   "source": [
    "def half_student_model(num_observations, x=None):\n",
    "    df = numpyro.sample(\"df\", dist.Gamma(6, 2))\n",
    "    scale = numpyro.sample(\"scale\", dist.LogNormal())\n",
    "    with numpyro.plate(\"obs\", num_observations):\n",
    "        numpyro.sample(\"x\", HalfStudentT(df, scale), obs=x)"
   ]
  },
  {
   "cell_type": "code",
   "execution_count": 32,
   "id": "bfe28a57",
   "metadata": {},
   "outputs": [
    {
     "name": "stderr",
     "output_type": "stream",
     "text": [
      "sample: 100%|███████████████████████████████████████████████████████████████████████████████████████████████████████████████████████| 4000/4000 [00:01<00:00, 2419.08it/s, 7 steps of size 6.50e-01. acc. prob=0.92]\n",
      "sample: 100%|███████████████████████████████████████████████████████████████████████████████████████████████████████████████████████| 4000/4000 [00:00<00:00, 8934.18it/s, 3 steps of size 6.49e-01. acc. prob=0.92]\n",
      "sample: 100%|███████████████████████████████████████████████████████████████████████████████████████████████████████████████████████| 4000/4000 [00:00<00:00, 8568.21it/s, 7 steps of size 6.23e-01. acc. prob=0.93]\n",
      "sample: 100%|███████████████████████████████████████████████████████████████████████████████████████████████████████████████████████| 4000/4000 [00:00<00:00, 8530.11it/s, 7 steps of size 5.61e-01. acc. prob=0.94]"
     ]
    },
    {
     "name": "stdout",
     "output_type": "stream",
     "text": [
      "\n",
      "                mean       std    median      5.0%     95.0%     n_eff     r_hat\n",
      "        df      5.05      0.92      4.96      3.56      6.46   2922.51      1.00\n",
      "     scale      0.87      0.04      0.86      0.80      0.93   3141.28      1.00\n",
      "\n",
      "Number of divergences: 0\n",
      "True df   : 6.22\n",
      "True scale: 0.84\n"
     ]
    },
    {
     "name": "stderr",
     "output_type": "stream",
     "text": [
      "\n"
     ]
    }
   ],
   "source": [
    "# --- prior sampling\n",
    "num_observations = 500\n",
    "num_prior_samples = 100\n",
    "prior = Predictive(half_student_model, num_samples=num_prior_samples)\n",
    "prior_samples = prior(RNG, num_observations)\n",
    "\n",
    "\n",
    "# --- choose any prior sample as the ground truth\n",
    "true_idx = 0\n",
    "true_df = prior_samples[\"df\"][true_idx]\n",
    "true_scale = prior_samples[\"scale\"][true_idx]\n",
    "true_x = prior_samples[\"x\"][true_idx]\n",
    "\n",
    "# --- do inference with MCMC\n",
    "mcmc = MCMC(\n",
    "    NUTS(half_student_model),\n",
    "    **MCMC_KWARGS,\n",
    ")\n",
    "mcmc.run(RNG, num_observations, true_x)\n",
    "\n",
    "# --- Check diagostics\n",
    "mcmc.print_summary()\n",
    "\n",
    "# --- Compare to ground truth:\n",
    "print(f\"True df   : {true_df:3.2f}\")\n",
    "print(f\"True scale: {true_scale:3.2f}\")"
   ]
  },
  {
   "cell_type": "markdown",
   "id": "fecec291",
   "metadata": {},
   "source": [
    "## References and related material <a class=\"anchor\" id=\"6\"></a>\n",
    "\n",
    "- Inverse transform sampling: https://en.wikipedia.org/wiki/Inverse_transform_sampling\n",
    "- David Mackay's book on information theory: http://www.inference.org.uk/itprnn/book.pdf\n",
    "- Pyro SVI tutorial part 3: https://pyro.ai/examples/svi_part_iii.html#Tricky-Case:-Non-reparameterizable-Random-Variables\n",
    "- Paper on approximate icdf for the poisson distribution: https://people.maths.ox.ac.uk/gilesm/codes/poissinv/paper.pdf"
   ]
  },
  {
   "cell_type": "code",
   "execution_count": null,
   "id": "cf4e33f9",
   "metadata": {},
   "outputs": [],
   "source": []
  }
 ],
 "metadata": {
  "kernelspec": {
   "display_name": "Python 3 (ipykernel)",
   "language": "python",
   "name": "python3"
  },
  "language_info": {
   "codemirror_mode": {
    "name": "ipython",
    "version": 3
   },
   "file_extension": ".py",
   "mimetype": "text/x-python",
   "name": "python",
   "nbconvert_exporter": "python",
   "pygments_lexer": "ipython3",
   "version": "3.8.10"
  }
 },
 "nbformat": 4,
 "nbformat_minor": 5
}
